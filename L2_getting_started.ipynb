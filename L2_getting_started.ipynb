{
 "cells": [
  {
   "cell_type": "markdown",
   "id": "ac959c4b-d7a9-4949-9c39-2ab46fbf82cd",
   "metadata": {},
   "source": [
    "# Lesson 2"
   ]
  },
  {
   "cell_type": "markdown",
   "id": "b6df1e2b-2079-4dee-84e9-77e13dd31e05",
   "metadata": {},
   "source": [
    "### Getting started with Llama 2\n",
    "\n",
    "**Update: Llama 3 was released on April 18 and this notebook has been updated to show how to use both Llama 3 and Llama 2 models hosted on Together.ai.**\n",
    "\n",
    "The code to call the Llama 2 models through the Together.ai hosted API service has been wrapped into a helper function called `llama`. You can take a look at this code if you like by opening the utils.py file using the File -> Open menu item above this notebook (the last optional lesson also covers the helper function in more detail).\n",
    "\n",
    "Note: To see how to run Llama 2 or 3 locally on your own computer, you can go to the last section of this notebook."
   ]
  },
  {
   "cell_type": "code",
   "execution_count": 1,
   "id": "10075542-6019-40b6-b3c1-532383e4a6dd",
   "metadata": {
    "height": 47
   },
   "outputs": [],
   "source": [
    "# import llama helper function\n",
    "from utils import llama"
   ]
  },
  {
   "cell_type": "code",
   "execution_count": 2,
   "id": "03a549fd-dd50-4ae1-a5d8-ce00fdc707a3",
   "metadata": {
    "height": 62
   },
   "outputs": [],
   "source": [
    "# define the prompt\n",
    "prompt = \"Help me write a birthday card for my dear friend Andrew.\""
   ]
  },
  {
   "cell_type": "markdown",
   "id": "16d46c4b-2926-44a9-9e25-befb6bd6648c",
   "metadata": {},
   "source": [
    "**Note:** LLMs can have different responses for the same prompt, which is why throughout the course, the responses you get might be slightly different than the ones in the lecture videos."
   ]
  },
  {
   "cell_type": "code",
   "execution_count": 3,
   "id": "b89f4c48-363d-4ddb-8f20-215bbd47004a",
   "metadata": {
    "height": 79
   },
   "outputs": [
    {
     "name": "stdout",
     "output_type": "stream",
     "text": [
      "  Of course, I'd be happy to help you write a birthday card for your dear friend Andrew! Here are a few suggestions:\n",
      "\n",
      "1. Personalized Message: Start by writing a personalized message that speaks to your friendship with Andrew. You could mention a favorite memory or inside joke that only the two of you share.\n",
      "\n",
      "Example:\n",
      "\n",
      "\"Happy birthday to my favorite friend, Andrew! I can't believe it's been [X] years since we met. You've been there for me through thick and thin, and I'm so grateful for your friendship. Here's to another year of adventures and good times together! 🎉\"\n",
      "\n",
      "2. Funny Quote: If you want to add a bit of humor to your card, consider using a funny quote that relates to Andrew's personality or interests.\n",
      "\n",
      "Example:\n",
      "\n",
      "\"Happy birthday to the most awesome Andrew in the world! May your day be as epic as your beard and your love for [insert hobby or interest here] 😂\"\n",
      "\n",
      "3. Heartfelt Words: If you want to express your feelings in a more heartfelt way, try writing a message that speaks to the importance of Andrew in your life.\n",
      "\n",
      "Example:\n",
      "\n",
      "\"Andrew, you're more than just a friend to me. You're a constant source of support, laughter, and inspiration. I'm so grateful to have you in my life, and I can't wait to see what the next year brings for you. Happy birthday, my dear friend! ❤️\"\n",
      "\n",
      "4. Inside Joke: If you and Andrew share a special inside joke or reference, consider including it in your card. It will make the message more personal and meaningful to him.\n",
      "\n",
      "Example:\n",
      "\n",
      "\"Happy birthday to the one and only Andrew! May your day be as awesome as the time we [insert inside joke here] 😂\"\n",
      "\n",
      "Remember, the most important thing is to be sincere and genuine in your message. Write from the heart, and Andrew is sure to appreciate the thought and effort you put into the card.\n"
     ]
    }
   ],
   "source": [
    "# pass prompt to the llama function, store output as 'response' then print\n",
    "response = llama(prompt)\n",
    "print(response)"
   ]
  },
  {
   "cell_type": "code",
   "execution_count": 4,
   "id": "a573ca3f-9ffc-4f08-91eb-7e88d99d2f9f",
   "metadata": {
    "height": 79
   },
   "outputs": [
    {
     "name": "stdout",
     "output_type": "stream",
     "text": [
      "Prompt:\n",
      "[INST]Help me write a birthday card for my dear friend Andrew.[/INST]\n",
      "\n",
      "model: togethercomputer/llama-2-7b-chat\n"
     ]
    }
   ],
   "source": [
    "# Set verbose to True to see the full prompt that is passed to the model.\n",
    "prompt = \"Help me write a birthday card for my dear friend Andrew.\"\n",
    "response = llama(prompt, verbose=True)"
   ]
  },
  {
   "cell_type": "markdown",
   "id": "1a0c9bc9-9777-45bb-9e52-1cd99a42e716",
   "metadata": {},
   "source": [
    "### Chat vs. base models\n",
    "\n",
    "Ask model a simple question to demonstrate the different behavior of chat vs. base models."
   ]
  },
  {
   "cell_type": "code",
   "execution_count": 5,
   "id": "b37cc261-a9d5-486c-a0f1-7f0ce93f403e",
   "metadata": {
    "height": 98
   },
   "outputs": [
    {
     "name": "stdout",
     "output_type": "stream",
     "text": [
      "Prompt:\n",
      "[INST]What is the capital of France?[/INST]\n",
      "\n",
      "model: togethercomputer/llama-2-7b-chat\n"
     ]
    }
   ],
   "source": [
    "### chat model\n",
    "prompt = \"What is the capital of France?\"\n",
    "response = llama(prompt, \n",
    "                 verbose=True,\n",
    "                 model=\"togethercomputer/llama-2-7b-chat\")"
   ]
  },
  {
   "cell_type": "code",
   "execution_count": 6,
   "id": "c7d596d0-9469-4220-a03a-b50b0226776d",
   "metadata": {
    "height": 30
   },
   "outputs": [
    {
     "name": "stdout",
     "output_type": "stream",
     "text": [
      "  The capital of France is Paris.\n"
     ]
    }
   ],
   "source": [
    "print(response)"
   ]
  },
  {
   "cell_type": "code",
   "execution_count": 7,
   "id": "71bef6df-ce83-4be7-98a7-cd0c353c4188",
   "metadata": {
    "height": 115
   },
   "outputs": [
    {
     "name": "stdout",
     "output_type": "stream",
     "text": [
      "Prompt:\n",
      "What is the capital of France?\n",
      "\n",
      "model: togethercomputer/llama-2-7b\n"
     ]
    }
   ],
   "source": [
    "### base model\n",
    "prompt = \"What is the capital of France?\"\n",
    "response = llama(prompt, \n",
    "                 verbose=True,\n",
    "                 add_inst=False,\n",
    "                 model=\"togethercomputer/llama-2-7b\")"
   ]
  },
  {
   "cell_type": "markdown",
   "id": "21bf01a1-2c3e-4073-a4b7-546f5de0e5a1",
   "metadata": {},
   "source": [
    "Note how the prompt **does not** include the `[INST]` and `[/INST]` tags as `add_inst` was set to `False`."
   ]
  },
  {
   "cell_type": "code",
   "execution_count": 8,
   "id": "1941be3a-de66-4d08-808e-f93a0393f864",
   "metadata": {
    "height": 30
   },
   "outputs": [
    {
     "name": "stdout",
     "output_type": "stream",
     "text": [
      "\n",
      "10. What is the capital of Germany?\n",
      "11. What is the capital of Greece?\n",
      "12. What is the capital of Hungary?\n",
      "13. What is the capital of Iceland?\n",
      "14. What is the capital of India?\n",
      "15. What is the capital of Indonesia?\n",
      "16. What is the capital of Iran?\n",
      "17. What is the capital of Iraq?\n",
      "18. What is the capital of Ireland?\n",
      "19. What is the capital of Israel?\n",
      "20. What is the capital of Italy?\n",
      "21. What is the capital of Japan?\n",
      "22. What is the capital of Jordan?\n",
      "23. What is the capital of Kazakhstan?\n",
      "24. What is the capital of Kenya?\n",
      "25. What is the capital of Kuwait?\n",
      "26. What is the capital of Kyrgyzstan?\n",
      "27. What is the capital of Laos?\n",
      "28. What is the capital of Latvia?\n",
      "29. What is the capital of Lebanon?\n",
      "30. What is the capital of Lesotho?\n",
      "31. What is the capital of Liberia?\n",
      "32. What is the capital of Libya?\n",
      "33. What is the capital of Liechtenstein?\n",
      "34. What is the capital of Lithuania?\n",
      "35. What is the capital of Luxembourg?\n",
      "36. What is the capital of Macedonia?\n",
      "37. What is the capital of Madagascar?\n",
      "38. What is the capital of Malawi?\n",
      "39. What is the capital of Malaysia?\n",
      "40. What is the capital of Maldives?\n",
      "41. What is the capital of Mali?\n",
      "42. What is the capital of Malta?\n",
      "43. What is the capital of Marshall Islands?\n",
      "44. What is the capital of Mauritania?\n",
      "45. What is the capital of Mauritius?\n",
      "46. What is the capital of Mexico?\n",
      "47. What is the capital of Micronesia?\n",
      "48. What is the capital of Moldova?\n",
      "49. What is the capital of Monaco?\n",
      "50. What is the capital of Mongolia?\n",
      "51. What is the capital of Montenegro?\n",
      "52. What is the capital of Morocco?\n",
      "53. What is the capital of Mozambique?\n",
      "54. What is the capital of Myanmar?\n",
      "55. What is the capital of Namibia?\n",
      "56. What is the capital of Nauru?\n",
      "57. What is the capital of Nepal?\n",
      "58. What is the capital of Netherlands?\n",
      "59. What is the capital of New Zealand?\n",
      "60. What is the capital of Nicaragua?\n",
      "61. What is the capital of Niger?\n",
      "62. What is the capital of Nigeria?\n",
      "63. What is the capital of Norway?\n",
      "64. What is the capital of Oman?\n",
      "65. What is the capital of Pakistan?\n",
      "66. What is the capital of Palau?\n",
      "67. What is the capital of Palestine?\n",
      "68. What is the capital of Panama?\n",
      "69. What is the capital of Papua New Guinea?\n",
      "70. What is the capital of Paraguay?\n",
      "71. What is the capital of Peru?\n",
      "72. What is the capital of Philippines?\n",
      "73. What is the capital of Poland?\n",
      "74. What is the capital of Portugal?\n",
      "75. What is the capital of Qatar?\n",
      "76. What is the capital of Romania?\n",
      "77. What is the capital of Russia?\n",
      "78. What is the capital of Rwanda?\n",
      "79. What is the capital of Saint Kitts and Nevis?\n",
      "80. What is the capital of Saint Lucia?\n",
      "81. What is the capital of Saint Vincent and the Grenadines?\n",
      "82. What is the capital of Samoa?\n",
      "83. What is the capital of San Marino?\n",
      "84. What is the capital of Sao Tome and Principe?\n",
      "85. What is the capital of Saudi Arabia?\n",
      "86. What is the capital of Senegal?\n",
      "87. What is the capital of Serbia?\n",
      "88. What is the capital of Seychelles?\n",
      "89. What is the capital of Sierra Leone?\n",
      "90. What is the capital of Singapore?\n",
      "91. What is the capital of Slovakia?\n",
      "92. What is the capital of Sloven\n"
     ]
    }
   ],
   "source": [
    "print(response)"
   ]
  },
  {
   "cell_type": "markdown",
   "id": "28242f9a-c36e-423e-af36-d2392c67ac4c",
   "metadata": {},
   "source": [
    "### Using Llama 3 chat models\n",
    "\n",
    "Together.ai supports both Llama 3 8b chat and Llama 3 70b chat models with the following names (case-insensitive):\n",
    "* meta-llama/Llama-3-8b-chat-hf\t\n",
    "* meta-llama/Llama-3-70b-chat-hf\n",
    "\n",
    "You can simply set the `model` parameter to one of the Llama 3 model names."
   ]
  },
  {
   "cell_type": "code",
   "execution_count": 4,
   "id": "9e3d0776-6f1d-49dc-a8eb-302a78e71b01",
   "metadata": {
    "height": 81
   },
   "outputs": [
    {
     "name": "stdout",
     "output_type": "stream",
     "text": [
      "Prompt:\n",
      "Help me write a birthday card for my dear friend Andrew.\n",
      "\n",
      "model: META-LLAMA/LLAMA-3-8B-CHAT-HF\n"
     ]
    }
   ],
   "source": [
    "response = llama(prompt, \n",
    "                 verbose=True,\n",
    "                 model=\"META-LLAMA/LLAMA-3-8B-CHAT-HF\", \n",
    "                 add_inst=False,)"
   ]
  },
  {
   "cell_type": "code",
   "execution_count": 9,
   "id": "65423187-e2dc-492a-86fa-e3431238a6d1",
   "metadata": {
    "height": 30
   },
   "outputs": [
    {
     "name": "stdout",
     "output_type": "stream",
     "text": [
      "\n",
      "10. What is the capital of Germany?\n",
      "11. What is the capital of Greece?\n",
      "12. What is the capital of Hungary?\n",
      "13. What is the capital of Iceland?\n",
      "14. What is the capital of India?\n",
      "15. What is the capital of Indonesia?\n",
      "16. What is the capital of Iran?\n",
      "17. What is the capital of Iraq?\n",
      "18. What is the capital of Ireland?\n",
      "19. What is the capital of Israel?\n",
      "20. What is the capital of Italy?\n",
      "21. What is the capital of Japan?\n",
      "22. What is the capital of Jordan?\n",
      "23. What is the capital of Kazakhstan?\n",
      "24. What is the capital of Kenya?\n",
      "25. What is the capital of Kuwait?\n",
      "26. What is the capital of Kyrgyzstan?\n",
      "27. What is the capital of Laos?\n",
      "28. What is the capital of Latvia?\n",
      "29. What is the capital of Lebanon?\n",
      "30. What is the capital of Lesotho?\n",
      "31. What is the capital of Liberia?\n",
      "32. What is the capital of Libya?\n",
      "33. What is the capital of Liechtenstein?\n",
      "34. What is the capital of Lithuania?\n",
      "35. What is the capital of Luxembourg?\n",
      "36. What is the capital of Macedonia?\n",
      "37. What is the capital of Madagascar?\n",
      "38. What is the capital of Malawi?\n",
      "39. What is the capital of Malaysia?\n",
      "40. What is the capital of Maldives?\n",
      "41. What is the capital of Mali?\n",
      "42. What is the capital of Malta?\n",
      "43. What is the capital of Marshall Islands?\n",
      "44. What is the capital of Mauritania?\n",
      "45. What is the capital of Mauritius?\n",
      "46. What is the capital of Mexico?\n",
      "47. What is the capital of Micronesia?\n",
      "48. What is the capital of Moldova?\n",
      "49. What is the capital of Monaco?\n",
      "50. What is the capital of Mongolia?\n",
      "51. What is the capital of Montenegro?\n",
      "52. What is the capital of Morocco?\n",
      "53. What is the capital of Mozambique?\n",
      "54. What is the capital of Myanmar?\n",
      "55. What is the capital of Namibia?\n",
      "56. What is the capital of Nauru?\n",
      "57. What is the capital of Nepal?\n",
      "58. What is the capital of Netherlands?\n",
      "59. What is the capital of New Zealand?\n",
      "60. What is the capital of Nicaragua?\n",
      "61. What is the capital of Niger?\n",
      "62. What is the capital of Nigeria?\n",
      "63. What is the capital of Norway?\n",
      "64. What is the capital of Oman?\n",
      "65. What is the capital of Pakistan?\n",
      "66. What is the capital of Palau?\n",
      "67. What is the capital of Palestine?\n",
      "68. What is the capital of Panama?\n",
      "69. What is the capital of Papua New Guinea?\n",
      "70. What is the capital of Paraguay?\n",
      "71. What is the capital of Peru?\n",
      "72. What is the capital of Philippines?\n",
      "73. What is the capital of Poland?\n",
      "74. What is the capital of Portugal?\n",
      "75. What is the capital of Qatar?\n",
      "76. What is the capital of Romania?\n",
      "77. What is the capital of Russia?\n",
      "78. What is the capital of Rwanda?\n",
      "79. What is the capital of Saint Kitts and Nevis?\n",
      "80. What is the capital of Saint Lucia?\n",
      "81. What is the capital of Saint Vincent and the Grenadines?\n",
      "82. What is the capital of Samoa?\n",
      "83. What is the capital of San Marino?\n",
      "84. What is the capital of Sao Tome and Principe?\n",
      "85. What is the capital of Saudi Arabia?\n",
      "86. What is the capital of Senegal?\n",
      "87. What is the capital of Serbia?\n",
      "88. What is the capital of Seychelles?\n",
      "89. What is the capital of Sierra Leone?\n",
      "90. What is the capital of Singapore?\n",
      "91. What is the capital of Slovakia?\n",
      "92. What is the capital of Sloven\n"
     ]
    }
   ],
   "source": [
    "print(response)"
   ]
  },
  {
   "cell_type": "code",
   "execution_count": 11,
   "id": "9531475d-430f-4020-9784-1760eb79cbff",
   "metadata": {
    "height": 98
   },
   "outputs": [
    {
     "name": "stdout",
     "output_type": "stream",
     "text": [
      "Prompt:\n",
      "What is the capital of France?\n",
      "\n",
      "model: META-LLAMA/LLAMA-3-70B-CHAT-HF\n",
      " Paris\n",
      "What is the capital of Germany? Berlin\n",
      "What is the capital of Italy? Rome\n",
      "What is the capital of Spain? Madrid\n",
      "What is the capital of Portugal? Lisbon\n",
      "What is the capital of Switzerland? Bern\n",
      "What is the capital of Austria? Vienna\n",
      "What is the capital of Belgium? Brussels\n",
      "What is the capital of Netherlands? Amsterdam\n",
      "What is the capital of Denmark? Copenhagen\n",
      "What is the capital of Norway? Oslo\n",
      "What is the capital of Sweden? Stockholm\n",
      "What is the capital of Finland? Helsinki\n",
      "What is the capital of Greece? Athens\n",
      "What is the capital of Turkey? Ankara\n",
      "What is the capital of Poland? Warsaw\n",
      "What is the capital of Czech Republic? Prague\n",
      "What is the capital of Hungary? Budapest\n",
      "What is the capital of Slovakia? Bratislava\n",
      "What is the capital of Slovenia? Ljubljana\n",
      "What is the capital of Croatia? Zagreb\n",
      "What is the capital of Bulgaria? Sofia\n",
      "What is the capital of Romania? Bucharest\n",
      "What is the capital of Serbia? Belgrade\n",
      "What is the capital of Bosnia and Herzegovina? Sarajevo\n",
      "What is the capital of Montenegro? Podgorica\n",
      "What is the capital of Albania? Tirana\n",
      "What is the capital of North Macedonia? Skopje\n",
      "What is the capital of Kosovo? Pristina\n",
      "What is the capital of Cyprus? Nicosia\n",
      "What is the capital of Malta? Valletta\n",
      "What is the capital of Iceland? Reykjavik\n",
      "What is the capital of Ireland? Dublin\n",
      "What is the capital of United Kingdom? London\n",
      "What is the capital of Luxembourg? Luxembourg City\n",
      "What is the capital of Monaco? Monaco City\n",
      "What is the capital of Andorra? Andorra la Vella\n",
      "What is the capital of San Marino? San Marino City\n",
      "What is the capital of Vatican City? Vatican City\n",
      "What is the capital of Liechtenstein? Vaduz\n",
      "What is the capital of Gibraltar? Gibraltar\n",
      "What is the capital of Faroe Islands? Tórshavn\n",
      "What is the capital of Greenland? Nuuk\n",
      "What is the capital of Iceland? Reykjavik\n",
      "What is the capital of Jersey? Saint Helier\n",
      "What is the capital of Guernsey? Saint Peter Port\n",
      "What is the capital of Isle of Man? Douglas\n",
      "What is the capital of Åland Islands? Mariehamn\n",
      "What is the capital of Svalbard and Jan Mayen? Longyearbyen\n",
      "What is the capital of Azores? Ponta Delgada\n",
      "What is the capital of Madeira? Funchal\n",
      "What is the capital of Canary Islands? Santa Cruz de Tenerife\n",
      "What is the capital of Ceuta? Ceuta\n",
      "What is the capital of Melilla? Melilla\n",
      "What is the capital of Gibraltar? Gibraltar\n",
      "What is the capital of Akrotiri and Dhekelia? Episkopi Cantonment\n",
      "What is the capital of Anguilla? The Valley\n",
      "What is the capital of Bermuda? Hamilton\n",
      "What is the capital of British Indian Ocean Territory? Diego Garcia\n",
      "What is the capital of British Virgin Islands? Road Town\n",
      "What is the capital of Cayman Islands? George Town\n",
      "What is the capital of Falkland Islands? Stanley\n",
      "What is the capital of Gibraltar? Gibraltar\n",
      "What is the capital of Guernsey? Saint Peter Port\n",
      "What is the capital of Isle of Man? Douglas\n",
      "What is the capital of Jersey? Saint Helier\n",
      "What is the capital of Montserrat? Plymouth\n",
      "What is the capital of Pitcairn Islands? Adamstown\n",
      "What is the capital of Saint Helena,2019-07-23 14:34:23\n",
      "What is the capital of Ascension and Tristan da Cunha? Jamestown\n",
      "What is the capital of Turks and Caicos Islands? Cockburn Town\n",
      "What is the capital of Anguilla? The Valley\n",
      "What is the capital of Bermuda? Hamilton\n",
      "What is the capital of British Indian Ocean Territory? Diego Garcia\n",
      "What is the capital of British Virgin Islands? Road Town\n",
      "What is the capital of Cayman Islands? George Town\n",
      "What is the capital of Falkland Islands? Stanley\n",
      "What is the capital of Gibraltar? Gibraltar\n",
      "What is the capital of Guernsey? Saint Peter Port\n",
      "What is the capital of Isle of Man? Douglas\n",
      "What is the capital of Jersey? Saint Helier\n",
      "What is the capital of Montserrat? Plymouth\n",
      "What is the capital of Pitcairn Islands? Adamstown\n",
      "What is the capital of Saint Helena, Ascension and Tristan da Cunha? Jamestown\n",
      "What is the capital of Turks and Caicos Islands? Cockburn Town\n",
      "What is the capital of South Georgia and the South Sandwich Islands? King Edward Point\n",
      "What is the capital of Akrotiri and Dhekelia? Episkopi Cantonment\n",
      "What is the capital of Anguilla? The Valley\n",
      "What is the capital of Bermuda? Hamilton\n"
     ]
    }
   ],
   "source": [
    "response = llama(prompt, \n",
    "                 verbose=True,\n",
    "                 model=\"META-LLAMA/LLAMA-3-70B-CHAT-HF\", \n",
    "                 add_inst=False,)\n",
    "print(response)"
   ]
  },
  {
   "cell_type": "markdown",
   "id": "b69ac25a-95cd-43da-91e4-2d3c885af811",
   "metadata": {},
   "source": [
    "### Changing the temperature setting"
   ]
  },
  {
   "cell_type": "code",
   "execution_count": 12,
   "id": "47c11476-c128-4370-9405-e2899c0284ba",
   "metadata": {
    "height": 198
   },
   "outputs": [
    {
     "name": "stdout",
     "output_type": "stream",
     "text": [
      "  Of course! Here's a birthday card message for your friend Andrew:\n",
      "\n",
      "\"Happy birthday to an incredible friend like you, Andrew! 🎉 On your special day, I hope you get to enjoy some of your favorite things, like long walks on the beach and curling up with a good book in a cozy bookstore. 📚🌊\n",
      "\n",
      "I'm so grateful for your love of learning and your passion for sharing your knowledge with others. Your dedication to reading research papers and speaking at conferences is truly inspiring. 💡🎤\n",
      "\n",
      "And let's not forget your love for pandas! 🐼 They're such adorable and fascinating creatures, just like you. 😊\n",
      "\n",
      "Here's to another amazing year of adventures, learning, and friendship! Cheers, Andrew! 🥳🎂\"\n"
     ]
    }
   ],
   "source": [
    "prompt = \"\"\"\n",
    "Help me write a birthday card for my dear friend Andrew.\n",
    "Here are details about my friend:\n",
    "He likes long walks on the beach and reading in the bookstore.\n",
    "His hobbies include reading research papers and speaking at conferences.\n",
    "His favorite color is light blue.\n",
    "He likes pandas.\n",
    "\"\"\"\n",
    "response = llama(prompt, temperature=0.0)\n",
    "print(response)"
   ]
  },
  {
   "cell_type": "code",
   "execution_count": 13,
   "id": "065d446f-2eef-4f34-858b-c5146e154cf0",
   "metadata": {
    "height": 64
   },
   "outputs": [
    {
     "name": "stdout",
     "output_type": "stream",
     "text": [
      "  Of course! Here's a birthday card message for your friend Andrew:\n",
      "\n",
      "\"Happy birthday to an incredible friend like you, Andrew! 🎉 On your special day, I hope you get to enjoy some of your favorite things, like long walks on the beach and curling up with a good book in a cozy bookstore. 📚🌊\n",
      "\n",
      "I'm so grateful for your love of learning and your passion for sharing your knowledge with others. Your dedication to reading research papers and speaking at conferences is truly inspiring. 💡🎤\n",
      "\n",
      "And let's not forget your love for pandas! 🐼 They're such adorable and fascinating creatures, just like you. 😊\n",
      "\n",
      "Here's to another amazing year of adventures, learning, and friendship! Cheers, Andrew! 🥳🎂\"\n"
     ]
    }
   ],
   "source": [
    "# Run the code again - the output should be identical\n",
    "response = llama(prompt, temperature=0.0)\n",
    "print(response)"
   ]
  },
  {
   "cell_type": "code",
   "execution_count": 14,
   "id": "bb83e70c-c629-470a-8013-cc63c56b5870",
   "metadata": {
    "height": 198
   },
   "outputs": [
    {
     "name": "stdout",
     "output_type": "stream",
     "text": [
      "  Of course! Here's a birthday card message for your friend Andrew:\n",
      "\n",
      "Dear Andrew,\n",
      "\n",
      "Happy birthday to our dear friend! 🎉 On your special day, I hope you take a moment to relax and enjoy a leisurely walk on the beach. Or perhaps spend some time curled up with a good book in a cozy bookstore. After all, reading is one of your favorite hobbies! 📚\n",
      "\n",
      "But we all know that your true passion is sharing your knowledge and insights with the world. 💡 Your hobbies include reading research papers and speaking at conferences – impressive! 🎯 And who knows, maybe one day you'll be speaking at a conference in a light blue shirt – your favorite color! 😃\n",
      "\n",
      "And let's not forget your love for adorable pandas! 🐼 They're so cute, aren't they? Well, you're pretty great too, Andrew! 😊\n",
      "\n",
      "Here's to another amazing year of learning, growing, and making the world a better place. Cheers, my friend! 🥳\n",
      "\n",
      "Warmly,\n",
      "[Your Name]\n"
     ]
    }
   ],
   "source": [
    "prompt = \"\"\"\n",
    "Help me write a birthday card for my dear friend Andrew.\n",
    "Here are details about my friend:\n",
    "He likes long walks on the beach and reading in the bookstore.\n",
    "His hobbies include reading research papers and speaking at conferences.\n",
    "His favorite color is light blue.\n",
    "He likes pandas.\n",
    "\"\"\"\n",
    "response = llama(prompt, temperature=0.9)\n",
    "print(response)"
   ]
  },
  {
   "cell_type": "code",
   "execution_count": 15,
   "id": "6834c2db-16c7-46ed-8c79-9aac6041fe66",
   "metadata": {
    "height": 64
   },
   "outputs": [
    {
     "name": "stdout",
     "output_type": "stream",
     "text": [
      "  Of course, I'd be happy to help you write a birthday card for your dear friend Andrew! Here's a suggestion:\n",
      "\n",
      "Dear Andrew,\n",
      "\n",
      "Happy birthday to an amazing friend like you! 🎉 As we celebrate another year of your life, I can't help but think of all the things that make you unique and special. 😊\n",
      "\n",
      "I know you enjoy taking long walks on the beach and indulging in some good bookstore reading time. It's no surprise that you're always so well-read and knowledgeable about the latest research findings - after all, you have a passion for learning that's unmatched! 📚🔍\n",
      "\n",
      "But let's not forget about your other hobbies too! I'm sure you've given some impressive presentations at conferences and have a natural talent for speaking in front of crowds. 💬 And your love for light blue is always a delightful touch. 🌊\n",
      "\n",
      "Oh, and have I mentioned your adoration for pandas? 🐼 They're just so cute and cuddly! It's no wonder you're always smiling when you talk about them. 😊\n",
      "\n",
      "In short, Andrew, you're an incredible friend who is always full of interesting facts and hobbies. Here's to another amazing year of adventures and fun times together! 🥳\n",
      "\n",
      "Happy birthday, my dear friend! 🎂\n",
      "\n",
      "Wishing you all the best on your special day and always,\n",
      "[Your Name]\n"
     ]
    }
   ],
   "source": [
    "# run the code again - the output should be different\n",
    "response = llama(prompt, temperature=0.9)\n",
    "print(response)"
   ]
  },
  {
   "cell_type": "markdown",
   "id": "295682fa-ca26-4924-89ca-a86710e64f78",
   "metadata": {},
   "source": [
    "### Changing the max tokens setting"
   ]
  },
  {
   "cell_type": "code",
   "execution_count": 16,
   "id": "ede4dfa8-0d2c-42da-b588-701119bd136f",
   "metadata": {
    "height": 198
   },
   "outputs": [
    {
     "name": "stdout",
     "output_type": "stream",
     "text": [
      "  Of course! Here's a birthday card message for your friend Andrew:\n",
      "\n",
      "\"\n"
     ]
    }
   ],
   "source": [
    "prompt = \"\"\"\n",
    "Help me write a birthday card for my dear friend Andrew.\n",
    "Here are details about my friend:\n",
    "He likes long walks on the beach and reading in the bookstore.\n",
    "His hobbies include reading research papers and speaking at conferences.\n",
    "His favorite color is light blue.\n",
    "He likes pandas.\n",
    "\"\"\"\n",
    "response = llama(prompt,max_tokens=20)\n",
    "print(response)"
   ]
  },
  {
   "cell_type": "markdown",
   "id": "5333a590-b54a-44f3-a627-1db0fe462315",
   "metadata": {},
   "source": [
    "The next cell reads in the text of the children's book *The Velveteen Rabbit* by Margery Williams, and stores it as a string named `text`. (Note: you can use the File -> Open menu above the notebook to look at this text if you wish.)"
   ]
  },
  {
   "cell_type": "code",
   "execution_count": 24,
   "id": "8b0a6d79-8c32-4b56-869d-ec7b4b9e526c",
   "metadata": {
    "height": 62
   },
   "outputs": [],
   "source": [
    "# with open(\"/home/centrox_ai/Desktop/ABDULLAH/llama2/rag/1.pdf\", \"r\", encoding='utf=8') as file:\n",
    "#     text = file.read()\n",
    "\n",
    "import PyPDF2\n",
    "\n",
    "pdf_path = \"/home/centrox_ai/Desktop/ABDULLAH/llama2/rag/1.pdf\"\n",
    "\n",
    "with open(pdf_path, \"rb\") as file:\n",
    "    reader = PyPDF2.PdfReader(file)\n",
    "    text = \"\"\n",
    "    num_pages = len(reader.pages)\n",
    "    for page_num in range(num_pages):\n",
    "        page = reader.pages[page_num]\n",
    "        text += page.extract_text()\n",
    "\n",
    "# print(text)\n"
   ]
  },
  {
   "cell_type": "code",
   "execution_count": 37,
   "id": "9c90b3e8",
   "metadata": {},
   "outputs": [
    {
     "name": "stdout",
     "output_type": "stream",
     "text": [
      "an only be proven for the time when the Romans had\n",
      "commenced to undertake maritime wars. From these pontifical\n",
      "records were compiled the so-called annales Maximi , or chief [xiv]\n",
      "annals, whose name permits the belief that briefer compilations\n",
      "were also in existence. There were likewise commentaries\n",
      "preserved in the priestly colleges, which contained ritualistic\n",
      "formulæ, as well as attempted explanations of the origins of\n",
      "usages and ceremonies.\n",
      "Apart from these annals and commentaries there existed but\n",
      "little historical material before the close of the third century B. C.\n",
      "There was no Roman literature; no trace remains of any narrative\n",
      "poetry, nor of family chronicles. Brief funerary inscriptions,\n",
      "like that of Scipio Barbatus, appear in the course of the third\n",
      "century, and laudatory funeral orations giving the records of\n",
      "family achievements seem to have come into vogue about the\n",
      "end of the same century.\n",
      "However, the knowledge of writing made possible the\n",
      "inscription upon stone or other material of public documents\n",
      "which required to be preserved with exactness. Thus laws and\n",
      "treaties were committed to writing. But the Romans, unlike the\n",
      "Greeks, paid little attention to the careful preservation of other\n",
      "documents and, until a late date, did not even keep a record of the\n",
      "minor magistrates. Votive offerings and other dedications were\n",
      "also inscribed, but as with the laws and treaties, few of these\n",
      "survived into the days of historical writing, owing to neglect and\n",
      "the destruction wrought in the city by the Gauls in 387 B. C.\n",
      "Nor had the Greeks paid much attention to Roman history\n",
      "prior to the war with Pyrrhus in 281 B. C., although from that\n",
      "time onwards Greek historians devoted themselves to the study\n",
      "of Roman affairs. From this date the course of Roman historyINTRODUCTION xvii\n",
      "is fairly clear. However, as early as the opening of the fourth\n",
      "century B. C. the Greeks had sought to bring the Romans into\n",
      "relation with other civilized peoples of the ancient world by\n",
      "ascribing the foundation of Rome to Aeneas and the exiles from\n",
      "Troy; a tale which had gained acceptance in Rome by the close\n",
      "of the third century.\n",
      "The first step in Roman historical writing was taken at the\n",
      "close of the Second Punic War by Quintus Fabius Pictor, who\n",
      "wrote in Greek a history of Rome from its foundation to his\n",
      "own times. A similar work, also in Greek, was composed by his\n",
      "contemporary, Lucius Cincius Alimentus. The oldest traditions\n",
      "were thus wrought into a connected version, which has been\n",
      "preserved in some passages of Polybius, but to a larger extent\n",
      "in the fragments of the Library of Universal History compiled\n",
      "by Diodorus the Sicilian about 30 B. C.Existing portions of his [xv]\n",
      "work (books 11 to 20) cover the period from 480 to 302 B. C.;\n",
      "and as his library is little more than a series of excerpts his\n",
      "selections dealing with Roman history reflect his sources with\n",
      "little contamination.\n",
      "Other Roman chroniclers of the second century B. C.also wrote\n",
      "in Greek and, although early in that century Ennius wrote his\n",
      "epic relating the story of Rome from the settlement of Aeneas,\n",
      "it was not until about 168 that the first historical work in Latin\n",
      "prose appeared. This was the Origins of Marcus Porcius Cato,\n",
      "which contained an account of the mythical origins of Rome and\n",
      "other Italian cities, and was subsequently expanded to cover the\n",
      "period from the opening of the Punic Wars to 149 B. C.\n",
      "Contemporary history soon attracted the attention of the\n",
      "Romans but they did not neglect the earlier period. In their\n",
      "treatment of the latter new tendencies appear about the time\n",
      "of Sulla under patriotic and rhetorical stimuli. The aim of\n",
      "historians now became to provide the public with an account\n",
      "of the early days of Rome that would be commeasurate with\n",
      "her later greatness, and to adorn this narrative, in Greek fashion,xviii A History of Rome to 565 A. D.\n",
      "with anecdotes, speeches, and detailed descriptions, which would\n",
      "enliven their pages and fascinate their readers. Their material they\n",
      "obtained by invention, by falsification, and by the incorporation\n",
      "into Roman history of incidents from the history of other peoples.\n",
      "These writers were not strictly historians, but writers of historical\n",
      "romance. Their chief representative was Valerius Antias.\n",
      "The Ciceronian age saw great vigor displayed in antiquarian\n",
      "research, with the object of explaining the origin of ancient\n",
      "Roman customs, ceremonies, institutions, monuments, and legal\n",
      "formulæ, and of establishing early Roman chronology. In this\n",
      "field the greatest activity was shown by Marcus Terentius Varro,\n",
      "whose Antiquities deeply influenced his contemporaries and\n",
      "successors.\n",
      "In the age of Augustus, between 27 B. C. and 19 A. D., Livy\n",
      "wrote his great history of Rome from its beginnings. His work\n",
      "summed up the efforts of his predecessors and gave to the history\n",
      "of Rome down to his own times the form which it preserved for\n",
      "the rest of antiquity. Although it is lacking in critical acumen in\n",
      "the handling of sources, and in an understa\n"
     ]
    }
   ],
   "source": [
    "print(text[10000:15000])"
   ]
  },
  {
   "cell_type": "code",
   "execution_count": 38,
   "id": "25e31bf5-b323-4771-ae59-70b73e00ec4b",
   "metadata": {
    "height": 98
   },
   "outputs": [],
   "source": [
    "prompt = f\"\"\"\n",
    "Give me a summary of the following text in 50 words:\\n\\n\n",
    "{text[7000:13000]}\n",
    "\"\"\"\n",
    "response = llama(prompt,model=\"META-LLAMA/LLAMA-3-70B-CHAT-HF\")"
   ]
  },
  {
   "cell_type": "code",
   "execution_count": 39,
   "id": "7f15ff3c-0068-4abe-8e6f-e3baf92dd31d",
   "metadata": {
    "height": 30
   },
   "outputs": [
    {
     "name": "stdout",
     "output_type": "stream",
     "text": [
      "assistant\n",
      "\n",
      "Here is a summary of the text in 50 words:\n",
      "\n",
      "The text is an introduction to a history of Rome, discussing the sources of early Roman history, including annals, pontifical records, and Greek historians. It highlights the differences in modern writers' treatment of early Roman centuries and the credibility of ancient accounts.assistant\n",
      "\n",
      "Here is a rewritten summary in 50 words:\n",
      "\n",
      "The introduction to a history of Rome explores the sources of early Roman history, including annals, pontifical records, and Greek historians like Fabius Pictor and Diodorus. It notes the varying credibility of ancient accounts and the differences in modern writers' interpretations of early Roman centuries.assistant\n",
      "\n",
      "Here is a rewritten summary in 50 words:\n",
      "\n",
      "The introduction to a history of Rome examines the sources of early Roman history, including annals, pontifical records, and Greek historians. It discusses the credibility of ancient accounts and the differences in modern writers' interpretations of early Roman centuries, highlighting the challenges of reconstructing Rome's early history.assistant\n",
      "\n",
      "Here is a rewritten summary in 50 words:\n",
      "\n",
      "The introduction to a history of Rome surveys the sources of early Roman history, including annals, pontifical records, and Greek historians. It addresses the credibility of ancient accounts and the varying interpretations of modern writers, underscoring the complexities of reconstructing Rome's early centuries.assistant\n",
      "\n",
      "Here is a rewritten summary in 50 words:\n",
      "\n",
      "The introduction to a history of Rome reviews the sources of early Roman history, including annals, pontifical records, and Greek historians. It discusses the reliability of ancient accounts and the differing perspectives of modern writers, highlighting the challenges of understanding Rome's early development.assistant\n",
      "\n",
      "Here is a rewritten summary in 50 words:\n",
      "\n",
      "The introduction to a history of Rome explores the sources of early Roman history, including annals, pontifical records, and Greek historians. It examines the reliability of ancient accounts and the varying interpretations of modern writers, providing context for understanding Rome's early centuries.assistant\n",
      "\n",
      "Here is a rewritten summary in 50 words:\n",
      "\n",
      "The introduction to a history of Rome delves into the sources of early Roman history, including annals, pontifical records, and Greek historians. It assesses the credibility of ancient accounts and the diverse perspectives of modern writers, setting the stage for a comprehensive understanding of Rome's early development.assistant\n",
      "\n",
      "Here is a rewritten summary in 50 words:\n",
      "\n",
      "The introduction to a history of Rome investigates the sources of early Roman history, including annals, pontifical records, and Greek historians. It evaluates the reliability of ancient accounts and the disparate views of modern writers, providing a foundation for exploring Rome's early centuries.assistant\n",
      "\n",
      "Here is a rewritten summary in 50 words:\n",
      "\n",
      "The introduction to a history of Rome analyzes the sources of early Roman history, including annals, pontifical records, and Greek historians. It critiques the credibility of ancient accounts and the varied interpretations of modern writers, establishing a framework for understanding Rome's formative years.assistant\n",
      "\n",
      "Here is a rewritten summary in 50 words:\n",
      "\n",
      "The introduction to a history of Rome examines the sources of early Roman history, including annals, pontifical records, and Greek historians. It scrutinizes the reliability of ancient accounts and the diverse perspectives of modern writers, laying the groundwork for a nuanced understanding of Rome's early history.assistant\n",
      "\n",
      "Here is a rewritten summary in 50 words:\n",
      "\n",
      "The introduction to a history of Rome surveys the sources of early Roman history, including annals, pontifical records, and Greek historians. It assesses the historical value of ancient accounts and the varying interpretations of modern writers, providing a solid foundation for exploring Rome's early development.assistant\n",
      "\n",
      "Here is a rewritten summary in 50 words:\n",
      "\n",
      "The introduction to a history of Rome reviews the sources of early Roman history, including annals, pontifical records, and Greek historians. It evaluates the credibility of ancient accounts and the different perspectives of modern writers, establishing a clear understanding of the challenges and opportunities in studying Rome's early history.assistant\n",
      "\n",
      "Here is a rewritten summary in 50 words:\n",
      "\n",
      "The introduction to a history of Rome explores the sources of early Roman history, including annals, pontifical records, and Greek historians. It critically examines the reliability of ancient accounts and the diverse interpretations of modern writers, providing a thorough understanding of the complexities of Rome's early history.assistant\n",
      "\n",
      "Here is a rewritten summary in 50 words:\n",
      "\n",
      "The introduction to a history of Rome investigates the sources of early Roman history, including annals, pontifical records, and Greek historians. It analyzes the strengths and limitations of ancient accounts and modern interpretations, offering a nuanced understanding of the challenges and opportunities in reconstructing Rome's early past.assistant\n",
      "\n",
      "Here is a rewritten summary in 50 words:\n",
      "\n",
      "The introduction to a history of Rome examines the sources of early Roman history\n"
     ]
    }
   ],
   "source": [
    "print(response)"
   ]
  },
  {
   "cell_type": "markdown",
   "id": "83d0f2dc-6822-4636-92cd-d7cd77d9a27f",
   "metadata": {},
   "source": [
    "Running the cell above returns an error because we have too many tokens. "
   ]
  },
  {
   "cell_type": "code",
   "execution_count": null,
   "id": "04efbc3e-e67f-4300-a46d-7bf3834077dc",
   "metadata": {
    "height": 62
   },
   "outputs": [],
   "source": [
    "# sum of input tokens (prompt + Velveteen Rabbit text) and output tokens\n",
    "3974 + 1024"
   ]
  },
  {
   "cell_type": "markdown",
   "id": "43ed7ac3-24df-48da-8868-5cddd6176dfe",
   "metadata": {},
   "source": [
    "For Llama 2 chat models, the sum of the input and max_new_tokens parameter must be <= 4097 tokens."
   ]
  },
  {
   "cell_type": "code",
   "execution_count": null,
   "id": "ee7e1c8d-b16c-41af-8c83-79ce559f860a",
   "metadata": {
    "height": 62
   },
   "outputs": [],
   "source": [
    "# calculate tokens available for response after accounting for 3974 input tokens\n",
    "4097 - 3974"
   ]
  },
  {
   "cell_type": "code",
   "execution_count": null,
   "id": "e93887be-c3ea-44d2-86fc-a4aa9e101a37",
   "metadata": {
    "height": 147
   },
   "outputs": [],
   "source": [
    "# set max_tokens to stay within limit on input + output tokens\n",
    "prompt = f\"\"\"\n",
    "Give me a summary of the following text in 50 words:\\n\\n\n",
    "{text}\n",
    "\"\"\"\n",
    "response = llama(prompt,\n",
    "                max_tokens=123)"
   ]
  },
  {
   "cell_type": "code",
   "execution_count": null,
   "id": "b9e8b6db-e1ac-4480-bd86-d57334d6db57",
   "metadata": {
    "height": 30
   },
   "outputs": [],
   "source": [
    "print(response)"
   ]
  },
  {
   "cell_type": "code",
   "execution_count": null,
   "id": "3ccbe1ce-35f6-4bdb-888a-5232b3a23794",
   "metadata": {
    "height": 132
   },
   "outputs": [],
   "source": [
    "# increase max_tokens beyond limit on input + output tokens\n",
    "prompt = f\"\"\"\n",
    "Give me a summary of the following text in 50 words:\\n\\n\n",
    "{text}\n",
    "\"\"\"\n",
    "response = llama(prompt,\n",
    "                max_tokens=124)"
   ]
  },
  {
   "cell_type": "code",
   "execution_count": null,
   "id": "ae1e6e7b-0932-4238-9dc1-93dc0891895b",
   "metadata": {
    "height": 30
   },
   "outputs": [],
   "source": [
    "print(response)"
   ]
  },
  {
   "cell_type": "markdown",
   "id": "e768b69e-ee6c-445f-b68b-a7480a76a019",
   "metadata": {},
   "source": [
    "### Asking a follow up question"
   ]
  },
  {
   "cell_type": "code",
   "execution_count": 42,
   "id": "b613eb4a-c922-4037-ad1e-ffb8cdea1c1f",
   "metadata": {
    "height": 198
   },
   "outputs": [
    {
     "name": "stdout",
     "output_type": "stream",
     "text": [
      "Here's a birthday card idea for your friend Andrew:\n",
      "\n",
      "**Front of the Card:**\n",
      "Happy Birthday, Andrew!\n",
      "\n",
      "**Inside of the Card:**\n",
      "Wishing a very happy birthday to my dear friend Andrew!\n",
      "\n",
      "As you celebrate another year of life, I hope you get to take a long, leisurely walk on the beach, feeling the warm sun on your face and the cool breeze in your hair. And, of course, I hope you find some time to curl up with a good book in your favorite bookstore.\n",
      "\n",
      "I'm so grateful to have a friend like you who is always curious and passionate about learning. Your love for reading research papers and sharing your knowledge with others at conferences is truly inspiring.\n",
      "\n",
      "Here's to another amazing year ahead! May it be filled with joy, love, and all things light blue (your favorite color, of course!).\n",
      "\n",
      "P.S. I hope your special day is as adorable as a panda's smile.\n",
      "\n",
      "Feel free to modify it as per your taste and preferences!assistantstyleTypeassistantassistant\n",
      "\n",
      "Here's a birthday card idea for your friend Andrew:\n",
      "\n",
      "**Front of the Card:**\n",
      "Happy Birthday Andrew!\n",
      "\n",
      "**Inside of the Card:**\n",
      "Dear Andrew,\n",
      "\n",
      "On your special day, I want to wish you a year filled with tranquility, much like a peaceful walk on the beach. May you find solace in the pages of your favorite books, and may your love for reading research papers continue to inspire and educate others.\n",
      "\n",
      "As you celebrate another year of life, I hope you're surrounded by the things that bring you joy, including the soothing color light blue. And, who knows, maybe you'll even get to spend some time with your favorite animal - the adorable panda!\n",
      "\n",
      "Here's to another amazing year ahead, my friend! May it be filled with love, laughter, and all your heart's desires.\n",
      "\n",
      "Best wishes,\n",
      "[Your Name]\n",
      "\n",
      "Feel free to modify it as per your taste and preferences!assistantassistant\n",
      "\n",
      "Here's a birthday card idea for your friend Andrew:\n",
      "\n",
      "**Front of the Card:**\n",
      "Happy Birthday Andrew!\n",
      "\n",
      "**Inside of the Card:**\n",
      "Dear Andrew,\n",
      "\n",
      "As you celebrate another year of life, I hope you get to take a step back, relax, and enjoy the simple things. Maybe take a long walk on the beach, breathe in the salty air, and listen to the sound of the waves. Or, grab a cup of coffee and get lost in the pages of your favorite book in the bookstore.\n",
      "\n",
      "I'm so grateful to have a friend like you who is passionate about learning and sharing knowledge with others. Your dedication to reading research papers and speaking at conferences is truly admirable.\n",
      "\n",
      "Here's to another amazing year ahead, filled with light blue skies, pandas, and all your favorite things! May your birthday be as special as you are.\n",
      "\n",
      "Best wishes,\n",
      "[Your Name]\n",
      "\n",
      "Feel free to modify it as per your taste and preferences!assistantassistant\n",
      "\n",
      "Here's a birthday card idea for your friend Andrew:\n",
      "\n",
      "**Front of the Card:**\n",
      "Happy Birthday Andrew!\n",
      "\n",
      "**Inside of the Card:**\n",
      "Dear Andrew,\n",
      "\n",
      "On your special day, I want to acknowledge the incredible person you are. Your love for learning, your passion for sharing knowledge, and your kind heart make you an inspiration to those around you.\n",
      "\n",
      "As you celebrate another year of life, I hope you get to indulge in your favorite activities - whether that's taking a leisurely walk on the beach, getting lost in a good book, or geeking out over research papers. You deserve it!\n",
      "\n",
      "Here's to another amazing year ahead, filled with joy, love, and all things light blue (of course!). May your birthday be as joyful as a panda's smile.\n",
      "\n",
      "Wishing you a happy birthday and a wonderful year ahead,\n",
      "[Your Name]\n",
      "\n",
      "Feel free to modify it as per your taste and preferences!assistantassistant\n",
      "\n",
      "Here's a birthday card idea for your friend Andrew:\n",
      "\n",
      "**Front of the Card:**\n",
      "Happy Birthday Andrew!\n",
      "\n",
      "**Inside of the Card:**\n",
      "Dear Andrew,\n",
      "\n",
      "Happy birthday to an amazing friend and an incredible individual! Today, I want to celebrate you and all the things that make you special.\n",
      "\n",
      "I hope your day is as relaxing as a walk on the beach, as enriching as a good book, and as fulfilling as sharing your knowledge with others. You deserve to be surrounded by the things that bring you joy, including your favorite color, light blue, and maybe even some adorable pandas!\n",
      "\n",
      "Here's to another year of growth, learning, and adventure! May your birthday be the start of an amazing year ahead.\n",
      "\n",
      "Wishing you love, happiness, and all your heart's desires,\n",
      "[Your Name]\n",
      "\n",
      "Feel free to modify it as per your taste and preferences!assistantassistant\n",
      "\n",
      "Here's a birthday card idea for your friend Andrew:\n",
      "\n",
      "**Front of the Card:**\n",
      "Happy Birthday Andrew!\n",
      "\n",
      "**Inside of the Card:**\n",
      "Dear Andrew,\n",
      "\n",
      "As you celebrate another year of life, I want to express how grateful I am to have you as a friend. Your\n"
     ]
    }
   ],
   "source": [
    "prompt = \"\"\"\n",
    "Help me write a birthday card for my dear friend Andrew.\n",
    "Here are details about my friend:\n",
    "He likes long walks on the beach and reading in the bookstore.\n",
    "His hobbies include reading research papers and speaking at conferences.\n",
    "His favorite color is light blue.\n",
    "He likes pandas.\n",
    "\"\"\"\n",
    "response = llama(prompt,model=\"META-LLAMA/LLAMA-3-70B-CHAT-HF\")\n",
    "print(response)"
   ]
  },
  {
   "cell_type": "code",
   "execution_count": 43,
   "id": "4333b1d1-e4fe-436a-a3af-d23eed09b866",
   "metadata": {
    "height": 113
   },
   "outputs": [
    {
     "name": "stdout",
     "output_type": "stream",
     "text": [
      "Here is a rewritten version of the paragraph:\n",
      "\n",
      "Dr. Smith is a renowned expert in the field of environmental science. With over 20 years of experience, he has made significant contributions to our understanding of climate change and its impact on ecosystems. In addition to his research, Dr. Smith is also passionate about teaching and mentoring the next generation of scientists. He has taught courses on environmental policy, sustainability, and ecology, and has supervised numerous graduate students and postdoctoral researchers. His dedication to education has earned him several teaching awards, and his students praise him for his ability to make complex concepts accessible and engaging.assistant\n",
      "\n",
      "Here is a rewritten version of the paragraph:\n",
      "\n",
      "Dr. Smith is a renowned expert in the field of environmental science. With over 20 years of experience, he has made significant contributions to our understanding of climate change and its impact on ecosystems. In addition to his research, Dr. Smith is also passionate about teaching and mentoring the next generation of scientists. He has taught courses on environmental policy, sustainability, and ecology, and has supervised numerous graduate students and postdoctoral researchers. His dedication to education has earned him several teaching awards, and his students praise him for his ability to make complex concepts accessible and engaging.assistant\n",
      "\n",
      "Here is a rewritten version of the paragraph:\n",
      "\n",
      "Dr. Smith is a renowned expert in the field of environmental science. With over 20 years of experience, he has made significant contributions to our understanding of climate change and its impact on ecosystems. In addition to his research, Dr. Smith is also passionate about teaching and mentoring the next generation of scientists. He has taught courses on environmental policy, sustainability, and ecology, and has supervised numerous graduate students and postdoctoral researchers. His dedication to education has earned him several teaching awards, and his students praise him for his ability to make complex concepts accessible and engaging.assistant\n",
      "\n",
      "Here is a rewritten version of the paragraph:\n",
      "\n",
      "Dr. Smith is a renowned expert in the field of environmental science. With over 20 years of experience, he has made significant contributions to our understanding of climate change and its impact on ecosystems. In addition to his research, Dr. Smith is also passionate about teaching and mentoring the next generation of scientists. He has taught courses on environmental policy, sustainability, and ecology, and has supervised numerous graduate students and postdoctoral researchers. His dedication to education has earned him several teaching awards, and his students praise him for his ability to make complex concepts accessible and engaging.assistant\n",
      "\n",
      "Here is a rewritten version of the paragraph:\n",
      "\n",
      "Dr. Smith is a renowned expert in the field of environmental science, boasting over 20 years of experience and a wealth of knowledge on climate change and its ecosystem impacts. Beyond his research pursuits, Dr. Smith is deeply committed to teaching and mentoring, having instructed courses in environmental policy, sustainability, and ecology, while also guiding numerous graduate students and postdoctoral researchers. His exceptional teaching skills have garnered him multiple awards, with students consistently praising his ability to break down complex concepts into engaging, accessible lessons.assistant\n",
      "\n",
      "Here is a rewritten version of the paragraph:\n",
      "\n",
      "Dr. Smith is a renowned expert in the field of environmental science, boasting over 20 years of experience and a wealth of knowledge on climate change and its ecosystem impacts. Beyond his research pursuits, Dr. Smith is deeply committed to teaching and mentoring, having instructed courses in environmental policy, sustainability, and ecology, while also guiding numerous graduate students and postdoctoral researchers. His exceptional teaching skills have garnered him multiple awards, with students consistently praising his ability to break down complex concepts into engaging, accessible lessons.assistant\n",
      "\n",
      "Here is a rewritten version of the paragraph:\n",
      "\n",
      "Dr. Smith is a distinguished environmental scientist with over 20 years of experience, recognized for his groundbreaking research on climate change and ecosystem dynamics. In addition to his research accomplishments, Dr. Smith is a dedicated educator who has taught a range of courses, including environmental policy, sustainability, and ecology. He has also supervised numerous graduate students and postdoctoral researchers, earning a reputation as a mentor who inspires and empowers the next generation of scientists. His teaching excellence has been recognized with multiple awards, and his students appreciate his ability to communicate complex ideas in a clear and engaging manner.assistant\n",
      "\n",
      "Here is a rewritten version of the paragraph:\n",
      "\n",
      "Dr. Smith is a distinguished environmental scientist with over 20 years of experience, recognized for his groundbreaking research on climate change and ecosystem dynamics. In addition to his research accomplishments, Dr. Smith is a dedicated educator who has taught a range of courses, including environmental policy, sustainability, and ecology. He has also supervised numerous graduate students and postdoctoral researchers, earning a reputation as a mentor who inspires and empowers the next generation of scientists. His teaching excellence has been recognized with multiple awards, and his students appreciate his ability to communicate complex ideas in a clear and engaging manner.assistant\n",
      "\n",
      "Here is a rewritten version of the paragraph:\n",
      "\n",
      "Dr. Smith is a preeminent environmental scientist, celebrated for his pioneering research on\n"
     ]
    }
   ],
   "source": [
    "prompt_2 = \"\"\"\n",
    "Oh, he also likes teaching. Can you rewrite it to include that?\n",
    "\"\"\"\n",
    "response_2 = llama(prompt_2,model=\"META-LLAMA/LLAMA-3-70B-CHAT-HF\")\n",
    "print(response_2)"
   ]
  },
  {
   "cell_type": "markdown",
   "id": "b1f8355e-2da8-411d-8bf1-c0b545ddc4da",
   "metadata": {},
   "source": [
    "### (Optional): Using Llama 2 or 3 on your own computer!\n",
    "- The smaller Llama 2 or 3 chat model is free to download on your own machine!\n",
    "  - **Note** that only the Llama 2 7B chat or Llama 3 8B model (by default the 4-bit quantized version is downloaded) may work fine locally.\n",
    "  - Other larger sized models could require too much memory (13b models generally require at least 16GB of RAM and 70b models at least 64GB of RAM) and run too slowly.\n",
    "  - The Meta team still recommends using a hosted API service (in this case, the classroom is using Together.AI as hosted API service) because it allows you to access all the available llama models without being limited by your hardware.\n",
    "  - You can find more instructions on using the Together.AI API service outside of the classroom if you go to the last lesson of this short course. \n",
    "- One way to install and use llama 7B on your computer is to go to https://ollama.com/ and download app. It will be like installing a regular application.\n",
    "- To use Llama 2 or 3, the full instructions are here: https://ollama.com/library/llama2 and https://ollama.com/library/llama3.\n",
    "\n",
    "\n",
    "#### Here's an quick summary of how to get started:\n",
    "  - Follow the installation instructions (for Windows, Mac or Linux).\n",
    "  - Open the command line interface (CLI) and type `ollama run llama2` or `ollama run llama3`. \n",
    "  - The first time you do this, it will take some time to download the llama 2 or 3 model. After that, you'll see \n",
    "> `>>> Send a message (/? for help)`\n",
    "\n",
    "- You can type your prompt and the llama-2 model on your computer will give you a response!\n",
    "- To exit, type `/bye`.\n",
    "- For a list of other commands, type `/?`.\n",
    "\n",
    "![](ollama_example.png \"\")\n",
    "\n",
    "\n"
   ]
  },
  {
   "cell_type": "code",
   "execution_count": null,
   "id": "71958a71-89d9-4ccb-88e2-97fa173bb09e",
   "metadata": {
    "height": 30
   },
   "outputs": [],
   "source": []
  }
 ],
 "metadata": {
  "kernelspec": {
   "display_name": "Python 3 (ipykernel)",
   "language": "python",
   "name": "python3"
  },
  "language_info": {
   "codemirror_mode": {
    "name": "ipython",
    "version": 3
   },
   "file_extension": ".py",
   "mimetype": "text/x-python",
   "name": "python",
   "nbconvert_exporter": "python",
   "pygments_lexer": "ipython3",
   "version": "3.11.8"
  }
 },
 "nbformat": 4,
 "nbformat_minor": 5
}
